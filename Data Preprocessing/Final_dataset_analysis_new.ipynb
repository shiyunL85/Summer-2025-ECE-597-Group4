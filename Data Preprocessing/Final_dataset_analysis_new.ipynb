{
  "cells": [
    {
      "cell_type": "markdown",
      "metadata": {},
      "source": [
        "In this project, we combined email datasets from two sources for phishing detection. The combined dataset (before cleaning) includes :\n",
        "\n",
        "Enron (Benign):\n",
        "~15,000 non-phishing emails extracted from the Enron email corpus — widely regarded as a reliable dataset for legitimate communications.\n",
        "\n",
        "Kaggle Phishing Dataset:\n",
        "~10,000 phishing emails collected from Kaggle's phishing email dataset, labeled as phishing (label = 1).\n",
        "\n",
        "\n",
        "## 1.Preprocessing Steps\n",
        "\n",
        "Standardized column names and encodings.\n",
        "\n",
        "Added a label column:\n",
        "\n",
        "1 for phishing\n",
        "\n",
        "0 for benign (Enron)\n",
        "\n",
        "Concatenated all datasets with a Source column.\n",
        "\n",
        "Checked and removed duplicate emails (based on the Message field), even if they came from different sources.\n",
        "\n",
        "Saved final result as combined_raw_dataset.csv.\n"
      ]
    },
    {
      "cell_type": "code",
      "execution_count": 2,
      "metadata": {},
      "outputs": [
        {
          "name": "stdout",
          "output_type": "stream",
          "text": [
            "Requirement already satisfied: pip in /Users/azaleadj/venv/lib/python3.9/site-packages (25.1.1)\n",
            "Note: you may need to restart the kernel to use updated packages.\n"
          ]
        }
      ],
      "source": [
        "pip install --upgrade pip"
      ]
    },
    {
      "cell_type": "code",
      "execution_count": 3,
      "metadata": {},
      "outputs": [
        {
          "name": "stdout",
          "output_type": "stream",
          "text": [
            "Requirement already satisfied: seaborn in /Users/azaleadj/venv/lib/python3.9/site-packages (0.13.2)\n",
            "Requirement already satisfied: numpy!=1.24.0,>=1.20 in /Users/azaleadj/venv/lib/python3.9/site-packages (from seaborn) (2.0.2)\n",
            "Requirement already satisfied: pandas>=1.2 in /Users/azaleadj/venv/lib/python3.9/site-packages (from seaborn) (2.2.3)\n",
            "Requirement already satisfied: matplotlib!=3.6.1,>=3.4 in /Users/azaleadj/venv/lib/python3.9/site-packages (from seaborn) (3.9.4)\n",
            "Requirement already satisfied: contourpy>=1.0.1 in /Users/azaleadj/venv/lib/python3.9/site-packages (from matplotlib!=3.6.1,>=3.4->seaborn) (1.3.0)\n",
            "Requirement already satisfied: cycler>=0.10 in /Users/azaleadj/venv/lib/python3.9/site-packages (from matplotlib!=3.6.1,>=3.4->seaborn) (0.12.1)\n",
            "Requirement already satisfied: fonttools>=4.22.0 in /Users/azaleadj/venv/lib/python3.9/site-packages (from matplotlib!=3.6.1,>=3.4->seaborn) (4.56.0)\n",
            "Requirement already satisfied: kiwisolver>=1.3.1 in /Users/azaleadj/venv/lib/python3.9/site-packages (from matplotlib!=3.6.1,>=3.4->seaborn) (1.4.7)\n",
            "Requirement already satisfied: packaging>=20.0 in /Users/azaleadj/venv/lib/python3.9/site-packages (from matplotlib!=3.6.1,>=3.4->seaborn) (24.2)\n",
            "Requirement already satisfied: pillow>=8 in /Users/azaleadj/venv/lib/python3.9/site-packages (from matplotlib!=3.6.1,>=3.4->seaborn) (11.1.0)\n",
            "Requirement already satisfied: pyparsing>=2.3.1 in /Users/azaleadj/venv/lib/python3.9/site-packages (from matplotlib!=3.6.1,>=3.4->seaborn) (3.2.1)\n",
            "Requirement already satisfied: python-dateutil>=2.7 in /Users/azaleadj/venv/lib/python3.9/site-packages (from matplotlib!=3.6.1,>=3.4->seaborn) (2.9.0.post0)\n",
            "Requirement already satisfied: importlib-resources>=3.2.0 in /Users/azaleadj/venv/lib/python3.9/site-packages (from matplotlib!=3.6.1,>=3.4->seaborn) (6.5.2)\n",
            "Requirement already satisfied: zipp>=3.1.0 in /Users/azaleadj/venv/lib/python3.9/site-packages (from importlib-resources>=3.2.0->matplotlib!=3.6.1,>=3.4->seaborn) (3.21.0)\n",
            "Requirement already satisfied: pytz>=2020.1 in /Users/azaleadj/venv/lib/python3.9/site-packages (from pandas>=1.2->seaborn) (2025.2)\n",
            "Requirement already satisfied: tzdata>=2022.7 in /Users/azaleadj/venv/lib/python3.9/site-packages (from pandas>=1.2->seaborn) (2025.2)\n",
            "Requirement already satisfied: six>=1.5 in /Users/azaleadj/venv/lib/python3.9/site-packages (from python-dateutil>=2.7->matplotlib!=3.6.1,>=3.4->seaborn) (1.17.0)\n"
          ]
        }
      ],
      "source": [
        "!pip install seaborn\n"
      ]
    },
    {
      "cell_type": "code",
      "execution_count": 4,
      "metadata": {},
      "outputs": [
        {
          "name": "stdout",
          "output_type": "stream",
          "text": [
            "Requirement already satisfied: nltk in /Users/azaleadj/venv/lib/python3.9/site-packages (3.9.1)\n",
            "Requirement already satisfied: click in /Users/azaleadj/venv/lib/python3.9/site-packages (from nltk) (8.1.8)\n",
            "Requirement already satisfied: joblib in /Users/azaleadj/venv/lib/python3.9/site-packages (from nltk) (1.4.2)\n",
            "Requirement already satisfied: regex>=2021.8.3 in /Users/azaleadj/venv/lib/python3.9/site-packages (from nltk) (2024.11.6)\n",
            "Requirement already satisfied: tqdm in /Users/azaleadj/venv/lib/python3.9/site-packages (from nltk) (4.67.1)\n"
          ]
        }
      ],
      "source": [
        "!pip install nltk"
      ]
    },
    {
      "cell_type": "code",
      "execution_count": 5,
      "metadata": {},
      "outputs": [
        {
          "name": "stdout",
          "output_type": "stream",
          "text": [
            "Requirement already satisfied: wordcloud in /Users/azaleadj/venv/lib/python3.9/site-packages (1.9.4)\n",
            "Requirement already satisfied: numpy>=1.6.1 in /Users/azaleadj/venv/lib/python3.9/site-packages (from wordcloud) (2.0.2)\n",
            "Requirement already satisfied: pillow in /Users/azaleadj/venv/lib/python3.9/site-packages (from wordcloud) (11.1.0)\n",
            "Requirement already satisfied: matplotlib in /Users/azaleadj/venv/lib/python3.9/site-packages (from wordcloud) (3.9.4)\n",
            "Requirement already satisfied: contourpy>=1.0.1 in /Users/azaleadj/venv/lib/python3.9/site-packages (from matplotlib->wordcloud) (1.3.0)\n",
            "Requirement already satisfied: cycler>=0.10 in /Users/azaleadj/venv/lib/python3.9/site-packages (from matplotlib->wordcloud) (0.12.1)\n",
            "Requirement already satisfied: fonttools>=4.22.0 in /Users/azaleadj/venv/lib/python3.9/site-packages (from matplotlib->wordcloud) (4.56.0)\n",
            "Requirement already satisfied: kiwisolver>=1.3.1 in /Users/azaleadj/venv/lib/python3.9/site-packages (from matplotlib->wordcloud) (1.4.7)\n",
            "Requirement already satisfied: packaging>=20.0 in /Users/azaleadj/venv/lib/python3.9/site-packages (from matplotlib->wordcloud) (24.2)\n",
            "Requirement already satisfied: pyparsing>=2.3.1 in /Users/azaleadj/venv/lib/python3.9/site-packages (from matplotlib->wordcloud) (3.2.1)\n",
            "Requirement already satisfied: python-dateutil>=2.7 in /Users/azaleadj/venv/lib/python3.9/site-packages (from matplotlib->wordcloud) (2.9.0.post0)\n",
            "Requirement already satisfied: importlib-resources>=3.2.0 in /Users/azaleadj/venv/lib/python3.9/site-packages (from matplotlib->wordcloud) (6.5.2)\n",
            "Requirement already satisfied: zipp>=3.1.0 in /Users/azaleadj/venv/lib/python3.9/site-packages (from importlib-resources>=3.2.0->matplotlib->wordcloud) (3.21.0)\n",
            "Requirement already satisfied: six>=1.5 in /Users/azaleadj/venv/lib/python3.9/site-packages (from python-dateutil>=2.7->matplotlib->wordcloud) (1.17.0)\n"
          ]
        }
      ],
      "source": [
        "!pip install wordcloud"
      ]
    },
    {
      "cell_type": "code",
      "execution_count": 6,
      "metadata": {
        "colab": {
          "base_uri": "https://localhost:8080/"
        },
        "id": "Xi0kgieOyjzj",
        "outputId": "80bb0564-5282-45a1-9b27-175f8c4eb3f2"
      },
      "outputs": [
        {
          "name": "stderr",
          "output_type": "stream",
          "text": [
            "[nltk_data] Downloading package punkt to /Users/azaleadj/nltk_data...\n",
            "[nltk_data]   Package punkt is already up-to-date!\n",
            "[nltk_data] Downloading package stopwords to\n",
            "[nltk_data]     /Users/azaleadj/nltk_data...\n",
            "[nltk_data]   Package stopwords is already up-to-date!\n",
            "[nltk_data] Downloading package averaged_perceptron_tagger to\n",
            "[nltk_data]     /Users/azaleadj/nltk_data...\n",
            "[nltk_data]   Package averaged_perceptron_tagger is already up-to-\n",
            "[nltk_data]       date!\n",
            "[nltk_data] Downloading package wordnet to\n",
            "[nltk_data]     /Users/azaleadj/nltk_data...\n",
            "[nltk_data]   Package wordnet is already up-to-date!\n"
          ]
        },
        {
          "data": {
            "text/plain": [
              "True"
            ]
          },
          "execution_count": 6,
          "metadata": {},
          "output_type": "execute_result"
        }
      ],
      "source": [
        "import pandas as pd\n",
        "import numpy as np\n",
        "import matplotlib.pyplot as plt\n",
        "import seaborn as sns\n",
        "import re\n",
        "import string\n",
        "from collections import Counter\n",
        "from wordcloud import WordCloud\n",
        "import nltk\n",
        "import warnings\n",
        "warnings.filterwarnings(\"ignore\")\n",
        "\n",
        "nltk.download('punkt')\n",
        "nltk.download('stopwords')\n",
        "nltk.download('averaged_perceptron_tagger')\n",
        "nltk.download('wordnet')"
      ]
    },
    {
      "cell_type": "code",
      "execution_count": 7,
      "metadata": {},
      "outputs": [
        {
          "name": "stdout",
          "output_type": "stream",
          "text": [
            "Current directory: /Users/azaleadj/Desktop/Uvic/summer/592/project/Summer-2025-ECE-597-Group4/DataPreprocessing\n"
          ]
        }
      ],
      "source": [
        "import os\n",
        "\n",
        "\n",
        "os.chdir(\"/Users/azaleadj/Desktop/Uvic/summer/592/project/Summer-2025-ECE-597-Group4/DataPreprocessing\")\n",
        "\n",
        "\n",
        "print(\"Current directory:\", os.getcwd())\n"
      ]
    },
    {
      "cell_type": "markdown",
      "metadata": {},
      "source": [
        "Preprocessing Steps\n",
        "Standardized column names and encodings.\n",
        "\n",
        "Added a label column:\n",
        "\n",
        "1 for phishing\n",
        "\n",
        "0 for benign (Enron)\n",
        "\n",
        "Concatenated all datasets with a Source column.\n",
        "\n",
        "Checked and removed duplicate emails (based on the Message field), even if they came from different sources.\n",
        "\n",
        "Saved final result as combined_raw_dataset.csv.\n"
      ]
    },
    {
      "cell_type": "markdown",
      "metadata": {},
      "source": []
    },
    {
      "cell_type": "code",
      "execution_count": 16,
      "metadata": {},
      "outputs": [
        {
          "name": "stdout",
          "output_type": "stream",
          "text": [
            "phishing_email: ['text_combined', 'label']\n"
          ]
        }
      ],
      "source": [
        "import pandas as pd\n",
        "\n",
        "# read every CSV file\n",
        "\n",
        "df_phishing = pd.read_csv(\"phishing_email.csv\")\n",
        "\n",
        "\n",
        "# check every DataFrame culumn\n",
        "\n",
        "print(\"phishing_email:\", df_phishing.columns.tolist())\n",
        "\n"
      ]
    },
    {
      "cell_type": "code",
      "execution_count": 17,
      "metadata": {},
      "outputs": [],
      "source": [
        "\n",
        "# rename text_combined\n",
        "all_emails_df = pd.DataFrame({\n",
        "    'Message': df_phishing['text_combined'],\n",
        "    'label': df_phishing['label']\n",
        "})\n",
        "# df_phishing_clean = pd.DataFrame({\n",
        "#     'Message': df_phishing['text_combined'],\n",
        "#     'label': df_phishing['label']\n",
        "# })\n"
      ]
    },
    {
      "cell_type": "code",
      "execution_count": 10,
      "metadata": {},
      "outputs": [],
      "source": [
        "\n"
      ]
    },
    {
      "cell_type": "code",
      "execution_count": 18,
      "metadata": {},
      "outputs": [
        {
          "data": {
            "text/html": [
              "<div>\n",
              "<style scoped>\n",
              "    .dataframe tbody tr th:only-of-type {\n",
              "        vertical-align: middle;\n",
              "    }\n",
              "\n",
              "    .dataframe tbody tr th {\n",
              "        vertical-align: top;\n",
              "    }\n",
              "\n",
              "    .dataframe thead th {\n",
              "        text-align: right;\n",
              "    }\n",
              "</style>\n",
              "<table border=\"1\" class=\"dataframe\">\n",
              "  <thead>\n",
              "    <tr style=\"text-align: right;\">\n",
              "      <th></th>\n",
              "      <th>Message</th>\n",
              "      <th>label</th>\n",
              "    </tr>\n",
              "  </thead>\n",
              "  <tbody>\n",
              "    <tr>\n",
              "      <th>0</th>\n",
              "      <td>hpl nom may 25 2001 see attached file hplno 52...</td>\n",
              "      <td>0</td>\n",
              "    </tr>\n",
              "    <tr>\n",
              "      <th>1</th>\n",
              "      <td>nom actual vols 24 th forwarded sabrae zajac h...</td>\n",
              "      <td>0</td>\n",
              "    </tr>\n",
              "    <tr>\n",
              "      <th>2</th>\n",
              "      <td>enron actuals march 30 april 1 201 estimated a...</td>\n",
              "      <td>0</td>\n",
              "    </tr>\n",
              "    <tr>\n",
              "      <th>3</th>\n",
              "      <td>hpl nom may 30 2001 see attached file hplno 53...</td>\n",
              "      <td>0</td>\n",
              "    </tr>\n",
              "    <tr>\n",
              "      <th>4</th>\n",
              "      <td>hpl nom june 1 2001 see attached file hplno 60...</td>\n",
              "      <td>0</td>\n",
              "    </tr>\n",
              "  </tbody>\n",
              "</table>\n",
              "</div>"
            ],
            "text/plain": [
              "                                             Message  label\n",
              "0  hpl nom may 25 2001 see attached file hplno 52...      0\n",
              "1  nom actual vols 24 th forwarded sabrae zajac h...      0\n",
              "2  enron actuals march 30 april 1 201 estimated a...      0\n",
              "3  hpl nom may 30 2001 see attached file hplno 53...      0\n",
              "4  hpl nom june 1 2001 see attached file hplno 60...      0"
            ]
          },
          "execution_count": 18,
          "metadata": {},
          "output_type": "execute_result"
        }
      ],
      "source": [
        "all_emails_df.head()"
      ]
    },
    {
      "cell_type": "code",
      "execution_count": null,
      "metadata": {},
      "outputs": [],
      "source": []
    },
    {
      "cell_type": "code",
      "execution_count": 19,
      "metadata": {},
      "outputs": [
        {
          "name": "stdout",
          "output_type": "stream",
          "text": [
            "deleted duplicated emails: 408 \n"
          ]
        }
      ],
      "source": [
        "before = all_emails_df.shape[0]\n",
        "all_emails_df.drop_duplicates(subset='Message', inplace=True)\n",
        "after = all_emails_df.shape[0]\n",
        "print(f\"deleted duplicated emails: {before - after} \")"
      ]
    },
    {
      "cell_type": "code",
      "execution_count": 20,
      "metadata": {},
      "outputs": [
        {
          "name": "stdout",
          "output_type": "stream",
          "text": [
            "(82078, 2)\n",
            "label\n",
            "1    42845\n",
            "0    39233\n",
            "Name: count, dtype: int64\n"
          ]
        }
      ],
      "source": [
        "print(all_emails_df.shape)\n",
        "print(all_emails_df['label'].value_counts())"
      ]
    },
    {
      "cell_type": "code",
      "execution_count": 21,
      "metadata": {},
      "outputs": [],
      "source": [
        "import re\n",
        "def clean_text(text):\n",
        "    text = text.lower()\n",
        "    # keep URL、email、HTML,number,$,@,:/\n",
        "    \n",
        "    text = re.sub(r'[^\\x00-\\x7f]', ' ', text)              # delete non ASCII\n",
        "    text = re.sub(r'\\b[a-z]{1,2}\\b', '', text)             # delet short word\n",
        "    text = re.sub(r'[^a-z0-9\\s@$:/]', '', text)               \n",
        "    text = re.sub(r'\\s+', ' ', text).strip()\n",
        "    return text\n",
        "\n",
        "\n",
        "\n",
        "   \n"
      ]
    },
    {
      "cell_type": "code",
      "execution_count": 22,
      "metadata": {},
      "outputs": [],
      "source": [
        "all_emails_df['Clean_Message'] = all_emails_df['Message'].apply(clean_text)\n",
        "\n"
      ]
    },
    {
      "cell_type": "code",
      "execution_count": 23,
      "metadata": {},
      "outputs": [
        {
          "data": {
            "text/html": [
              "<div>\n",
              "<style scoped>\n",
              "    .dataframe tbody tr th:only-of-type {\n",
              "        vertical-align: middle;\n",
              "    }\n",
              "\n",
              "    .dataframe tbody tr th {\n",
              "        vertical-align: top;\n",
              "    }\n",
              "\n",
              "    .dataframe thead th {\n",
              "        text-align: right;\n",
              "    }\n",
              "</style>\n",
              "<table border=\"1\" class=\"dataframe\">\n",
              "  <thead>\n",
              "    <tr style=\"text-align: right;\">\n",
              "      <th></th>\n",
              "      <th>Message</th>\n",
              "      <th>Clean_Message</th>\n",
              "      <th>label</th>\n",
              "    </tr>\n",
              "  </thead>\n",
              "  <tbody>\n",
              "    <tr>\n",
              "      <th>0</th>\n",
              "      <td>hpl nom may 25 2001 see attached file hplno 52...</td>\n",
              "      <td>hpl nom may 25 2001 see attached file hplno 52...</td>\n",
              "      <td>0</td>\n",
              "    </tr>\n",
              "    <tr>\n",
              "      <th>1</th>\n",
              "      <td>nom actual vols 24 th forwarded sabrae zajac h...</td>\n",
              "      <td>nom actual vols 24 forwarded sabrae zajac hou ...</td>\n",
              "      <td>0</td>\n",
              "    </tr>\n",
              "    <tr>\n",
              "      <th>2</th>\n",
              "      <td>enron actuals march 30 april 1 201 estimated a...</td>\n",
              "      <td>enron actuals march 30 april 1 201 estimated a...</td>\n",
              "      <td>0</td>\n",
              "    </tr>\n",
              "    <tr>\n",
              "      <th>3</th>\n",
              "      <td>hpl nom may 30 2001 see attached file hplno 53...</td>\n",
              "      <td>hpl nom may 30 2001 see attached file hplno 53...</td>\n",
              "      <td>0</td>\n",
              "    </tr>\n",
              "    <tr>\n",
              "      <th>4</th>\n",
              "      <td>hpl nom june 1 2001 see attached file hplno 60...</td>\n",
              "      <td>hpl nom june 1 2001 see attached file hplno 60...</td>\n",
              "      <td>0</td>\n",
              "    </tr>\n",
              "  </tbody>\n",
              "</table>\n",
              "</div>"
            ],
            "text/plain": [
              "                                             Message  \\\n",
              "0  hpl nom may 25 2001 see attached file hplno 52...   \n",
              "1  nom actual vols 24 th forwarded sabrae zajac h...   \n",
              "2  enron actuals march 30 april 1 201 estimated a...   \n",
              "3  hpl nom may 30 2001 see attached file hplno 53...   \n",
              "4  hpl nom june 1 2001 see attached file hplno 60...   \n",
              "\n",
              "                                       Clean_Message  label  \n",
              "0  hpl nom may 25 2001 see attached file hplno 52...      0  \n",
              "1  nom actual vols 24 forwarded sabrae zajac hou ...      0  \n",
              "2  enron actuals march 30 april 1 201 estimated a...      0  \n",
              "3  hpl nom may 30 2001 see attached file hplno 53...      0  \n",
              "4  hpl nom june 1 2001 see attached file hplno 60...      0  "
            ]
          },
          "execution_count": 23,
          "metadata": {},
          "output_type": "execute_result"
        }
      ],
      "source": [
        "all_emails_df[['Message', 'Clean_Message', 'label']].head()\n"
      ]
    },
    {
      "cell_type": "code",
      "execution_count": 24,
      "metadata": {},
      "outputs": [],
      "source": [
        "\n",
        "from sklearn.utils import shuffle\n",
        "\n",
        "# shuffle\n",
        "all_emails_df = shuffle(all_emails_df, random_state=42).reset_index(drop=True)"
      ]
    },
    {
      "cell_type": "code",
      "execution_count": 25,
      "metadata": {},
      "outputs": [
        {
          "data": {
            "text/html": [
              "<div>\n",
              "<style scoped>\n",
              "    .dataframe tbody tr th:only-of-type {\n",
              "        vertical-align: middle;\n",
              "    }\n",
              "\n",
              "    .dataframe tbody tr th {\n",
              "        vertical-align: top;\n",
              "    }\n",
              "\n",
              "    .dataframe thead th {\n",
              "        text-align: right;\n",
              "    }\n",
              "</style>\n",
              "<table border=\"1\" class=\"dataframe\">\n",
              "  <thead>\n",
              "    <tr style=\"text-align: right;\">\n",
              "      <th></th>\n",
              "      <th>Message</th>\n",
              "      <th>label</th>\n",
              "      <th>Clean_Message</th>\n",
              "    </tr>\n",
              "  </thead>\n",
              "  <tbody>\n",
              "    <tr>\n",
              "      <th>0</th>\n",
              "      <td>garp 2001 convention invitation speak invitati...</td>\n",
              "      <td>0</td>\n",
              "      <td>garp 2001 convention invitation speak invitati...</td>\n",
              "    </tr>\n",
              "    <tr>\n",
              "      <th>1</th>\n",
              "      <td>fly macromedia xp pro sp 2 adobe photoshop ms ...</td>\n",
              "      <td>1</td>\n",
              "      <td>fly macromedia pro 2 adobe photoshop office 2 ...</td>\n",
              "    </tr>\n",
              "    <tr>\n",
              "      <th>2</th>\n",
              "      <td>mr kala kabila kkkabila2003yahoocom kalla kabi...</td>\n",
              "      <td>1</td>\n",
              "      <td>kala kabila kkkabila2003yahoocom kalla kabila ...</td>\n",
              "    </tr>\n",
              "    <tr>\n",
              "      <th>3</th>\n",
              "      <td>william sister bright_william2008yahoocom dear...</td>\n",
              "      <td>1</td>\n",
              "      <td>william sister brightwilliam2008yahoocom dear ...</td>\n",
              "    </tr>\n",
              "    <tr>\n",
              "      <th>4</th>\n",
              "      <td>son masturbates watching mom sister pussies he...</td>\n",
              "      <td>1</td>\n",
              "      <td>son masturbates watching mom sister pussies he...</td>\n",
              "    </tr>\n",
              "  </tbody>\n",
              "</table>\n",
              "</div>"
            ],
            "text/plain": [
              "                                             Message  label  \\\n",
              "0  garp 2001 convention invitation speak invitati...      0   \n",
              "1  fly macromedia xp pro sp 2 adobe photoshop ms ...      1   \n",
              "2  mr kala kabila kkkabila2003yahoocom kalla kabi...      1   \n",
              "3  william sister bright_william2008yahoocom dear...      1   \n",
              "4  son masturbates watching mom sister pussies he...      1   \n",
              "\n",
              "                                       Clean_Message  \n",
              "0  garp 2001 convention invitation speak invitati...  \n",
              "1  fly macromedia pro 2 adobe photoshop office 2 ...  \n",
              "2  kala kabila kkkabila2003yahoocom kalla kabila ...  \n",
              "3  william sister brightwilliam2008yahoocom dear ...  \n",
              "4  son masturbates watching mom sister pussies he...  "
            ]
          },
          "execution_count": 25,
          "metadata": {},
          "output_type": "execute_result"
        }
      ],
      "source": [
        "all_emails_df.head()"
      ]
    },
    {
      "cell_type": "code",
      "execution_count": 26,
      "metadata": {},
      "outputs": [],
      "source": [
        "all_emails_df.to_csv(\"phishing_email_dataset.csv\", index=False)\n"
      ]
    },
    {
      "cell_type": "code",
      "execution_count": 27,
      "metadata": {},
      "outputs": [
        {
          "name": "stdout",
          "output_type": "stream",
          "text": [
            "Label count distribution:\n",
            " label\n",
            "1    42845\n",
            "0    39233\n",
            "Name: count, dtype: int64\n",
            "\n",
            "Label proportion distribution:\n",
            " label\n",
            "1    0.522003\n",
            "0    0.477997\n",
            "Name: proportion, dtype: float64\n"
          ]
        }
      ],
      "source": [
        "# View label distribution (counts and proportions)\n",
        "label_counts = all_emails_df['label'].value_counts()\n",
        "label_ratio = all_emails_df['label'].value_counts(normalize=True)\n",
        "\n",
        "print(\"Label count distribution:\\n\", label_counts)\n",
        "print(\"\\nLabel proportion distribution:\\n\", label_ratio)\n"
      ]
    },
    {
      "cell_type": "code",
      "execution_count": 28,
      "metadata": {},
      "outputs": [
        {
          "data": {
            "image/png": "[encoded data removed]",
            "text/plain": [
              "<Figure size 640x480 with 1 Axes>"
            ]
          },
          "metadata": {},
          "output_type": "display_data"
        }
      ],
      "source": [
        "import matplotlib.pyplot as plt\n",
        "\n",
        "label_counts = all_emails_df['label'].value_counts()\n",
        "label_counts.plot(kind='bar', color=['skyblue', 'salmon'])\n",
        "plt.title('Label Distribution (0 = benign,1 = phishing)')\n",
        "plt.xlabel('Label')\n",
        "plt.ylabel('Count')\n",
        "plt.xticks(rotation=0)\n",
        "plt.tight_layout()\n",
        "plt.show()\n"
      ]
    },
    {
      "cell_type": "markdown",
      "metadata": {},
      "source": []
    },
    {
      "cell_type": "markdown",
      "metadata": {},
      "source": []
    }
  ],
  "metadata": {
    "colab": {
      "provenance": []
    },
    "kernelspec": {
      "display_name": "Python (venv)",
      "language": "python",
      "name": "venv"
    },
    "language_info": {
      "codemirror_mode": {
        "name": "ipython",
        "version": 3
      },
      "file_extension": ".py",
      "mimetype": "text/x-python",
      "name": "python",
      "nbconvert_exporter": "python",
      "pygments_lexer": "ipython3",
      "version": "3.9.21"
    }
  },
  "nbformat": 4,
  "nbformat_minor": 0
}
