{
  "cells": [
    {
      "cell_type": "markdown",
      "metadata": {},
      "source": [
        "In this project, we combined email datasets from two sources for phishing detection. The combined dataset (before cleaning) includes :\n",
        "\n",
        "Enron (Benign):\n",
        "~15,000 non-phishing emails extracted from the Enron email corpus — widely regarded as a reliable dataset for legitimate communications.\n",
        "\n",
        "Kaggle Phishing Dataset:\n",
        "~10,000 phishing emails collected from Kaggle's phishing email dataset, labeled as phishing (label = 1).\n",
        "\n",
        "\n",
        "## 1.Preprocessing Steps\n",
        "\n",
        "Standardized column names and encodings.\n",
        "\n",
        "Added a label column:\n",
        "\n",
        "1 for phishing\n",
        "\n",
        "0 for benign (Enron)\n",
        "\n",
        "Concatenated all datasets with a Source column.\n",
        "\n",
        "Checked and removed duplicate emails (based on the Message field), even if they came from different sources.\n",
        "\n",
        "Saved final result as combined_raw_dataset.csv.\n"
      ]
    },
    {
      "cell_type": "code",
      "execution_count": 47,
      "metadata": {},
      "outputs": [
        {
          "name": "stdout",
          "output_type": "stream",
          "text": [
            "Requirement already satisfied: pip in /Users/azaleadj/venv/lib/python3.9/site-packages (25.1.1)\n",
            "Note: you may need to restart the kernel to use updated packages.\n"
          ]
        }
      ],
      "source": [
        "pip install --upgrade pip"
      ]
    },
    {
      "cell_type": "code",
      "execution_count": 48,
      "metadata": {},
      "outputs": [
        {
          "name": "stdout",
          "output_type": "stream",
          "text": [
            "Requirement already satisfied: seaborn in /Users/azaleadj/venv/lib/python3.9/site-packages (0.13.2)\n",
            "Requirement already satisfied: numpy!=1.24.0,>=1.20 in /Users/azaleadj/venv/lib/python3.9/site-packages (from seaborn) (2.0.2)\n",
            "Requirement already satisfied: pandas>=1.2 in /Users/azaleadj/venv/lib/python3.9/site-packages (from seaborn) (2.2.3)\n",
            "Requirement already satisfied: matplotlib!=3.6.1,>=3.4 in /Users/azaleadj/venv/lib/python3.9/site-packages (from seaborn) (3.9.4)\n",
            "Requirement already satisfied: contourpy>=1.0.1 in /Users/azaleadj/venv/lib/python3.9/site-packages (from matplotlib!=3.6.1,>=3.4->seaborn) (1.3.0)\n",
            "Requirement already satisfied: cycler>=0.10 in /Users/azaleadj/venv/lib/python3.9/site-packages (from matplotlib!=3.6.1,>=3.4->seaborn) (0.12.1)\n",
            "Requirement already satisfied: fonttools>=4.22.0 in /Users/azaleadj/venv/lib/python3.9/site-packages (from matplotlib!=3.6.1,>=3.4->seaborn) (4.56.0)\n",
            "Requirement already satisfied: kiwisolver>=1.3.1 in /Users/azaleadj/venv/lib/python3.9/site-packages (from matplotlib!=3.6.1,>=3.4->seaborn) (1.4.7)\n",
            "Requirement already satisfied: packaging>=20.0 in /Users/azaleadj/venv/lib/python3.9/site-packages (from matplotlib!=3.6.1,>=3.4->seaborn) (24.2)\n",
            "Requirement already satisfied: pillow>=8 in /Users/azaleadj/venv/lib/python3.9/site-packages (from matplotlib!=3.6.1,>=3.4->seaborn) (11.1.0)\n",
            "Requirement already satisfied: pyparsing>=2.3.1 in /Users/azaleadj/venv/lib/python3.9/site-packages (from matplotlib!=3.6.1,>=3.4->seaborn) (3.2.1)\n",
            "Requirement already satisfied: python-dateutil>=2.7 in /Users/azaleadj/venv/lib/python3.9/site-packages (from matplotlib!=3.6.1,>=3.4->seaborn) (2.9.0.post0)\n",
            "Requirement already satisfied: importlib-resources>=3.2.0 in /Users/azaleadj/venv/lib/python3.9/site-packages (from matplotlib!=3.6.1,>=3.4->seaborn) (6.5.2)\n",
            "Requirement already satisfied: zipp>=3.1.0 in /Users/azaleadj/venv/lib/python3.9/site-packages (from importlib-resources>=3.2.0->matplotlib!=3.6.1,>=3.4->seaborn) (3.21.0)\n",
            "Requirement already satisfied: pytz>=2020.1 in /Users/azaleadj/venv/lib/python3.9/site-packages (from pandas>=1.2->seaborn) (2025.2)\n",
            "Requirement already satisfied: tzdata>=2022.7 in /Users/azaleadj/venv/lib/python3.9/site-packages (from pandas>=1.2->seaborn) (2025.2)\n",
            "Requirement already satisfied: six>=1.5 in /Users/azaleadj/venv/lib/python3.9/site-packages (from python-dateutil>=2.7->matplotlib!=3.6.1,>=3.4->seaborn) (1.17.0)\n"
          ]
        }
      ],
      "source": [
        "!pip install seaborn\n"
      ]
    },
    {
      "cell_type": "code",
      "execution_count": 49,
      "metadata": {},
      "outputs": [
        {
          "name": "stdout",
          "output_type": "stream",
          "text": [
            "Requirement already satisfied: nltk in /Users/azaleadj/venv/lib/python3.9/site-packages (3.9.1)\n",
            "Requirement already satisfied: click in /Users/azaleadj/venv/lib/python3.9/site-packages (from nltk) (8.1.8)\n",
            "Requirement already satisfied: joblib in /Users/azaleadj/venv/lib/python3.9/site-packages (from nltk) (1.4.2)\n",
            "Requirement already satisfied: regex>=2021.8.3 in /Users/azaleadj/venv/lib/python3.9/site-packages (from nltk) (2024.11.6)\n",
            "Requirement already satisfied: tqdm in /Users/azaleadj/venv/lib/python3.9/site-packages (from nltk) (4.67.1)\n"
          ]
        }
      ],
      "source": [
        "!pip install nltk"
      ]
    },
    {
      "cell_type": "code",
      "execution_count": 50,
      "metadata": {},
      "outputs": [
        {
          "name": "stdout",
          "output_type": "stream",
          "text": [
            "Requirement already satisfied: wordcloud in /Users/azaleadj/venv/lib/python3.9/site-packages (1.9.4)\n",
            "Requirement already satisfied: numpy>=1.6.1 in /Users/azaleadj/venv/lib/python3.9/site-packages (from wordcloud) (2.0.2)\n",
            "Requirement already satisfied: pillow in /Users/azaleadj/venv/lib/python3.9/site-packages (from wordcloud) (11.1.0)\n",
            "Requirement already satisfied: matplotlib in /Users/azaleadj/venv/lib/python3.9/site-packages (from wordcloud) (3.9.4)\n",
            "Requirement already satisfied: contourpy>=1.0.1 in /Users/azaleadj/venv/lib/python3.9/site-packages (from matplotlib->wordcloud) (1.3.0)\n",
            "Requirement already satisfied: cycler>=0.10 in /Users/azaleadj/venv/lib/python3.9/site-packages (from matplotlib->wordcloud) (0.12.1)\n",
            "Requirement already satisfied: fonttools>=4.22.0 in /Users/azaleadj/venv/lib/python3.9/site-packages (from matplotlib->wordcloud) (4.56.0)\n",
            "Requirement already satisfied: kiwisolver>=1.3.1 in /Users/azaleadj/venv/lib/python3.9/site-packages (from matplotlib->wordcloud) (1.4.7)\n",
            "Requirement already satisfied: packaging>=20.0 in /Users/azaleadj/venv/lib/python3.9/site-packages (from matplotlib->wordcloud) (24.2)\n",
            "Requirement already satisfied: pyparsing>=2.3.1 in /Users/azaleadj/venv/lib/python3.9/site-packages (from matplotlib->wordcloud) (3.2.1)\n",
            "Requirement already satisfied: python-dateutil>=2.7 in /Users/azaleadj/venv/lib/python3.9/site-packages (from matplotlib->wordcloud) (2.9.0.post0)\n",
            "Requirement already satisfied: importlib-resources>=3.2.0 in /Users/azaleadj/venv/lib/python3.9/site-packages (from matplotlib->wordcloud) (6.5.2)\n",
            "Requirement already satisfied: zipp>=3.1.0 in /Users/azaleadj/venv/lib/python3.9/site-packages (from importlib-resources>=3.2.0->matplotlib->wordcloud) (3.21.0)\n",
            "Requirement already satisfied: six>=1.5 in /Users/azaleadj/venv/lib/python3.9/site-packages (from python-dateutil>=2.7->matplotlib->wordcloud) (1.17.0)\n"
          ]
        }
      ],
      "source": [
        "!pip install wordcloud"
      ]
    },
    {
      "cell_type": "code",
      "execution_count": 51,
      "metadata": {
        "colab": {
          "base_uri": "https://localhost:8080/"
        },
        "id": "Xi0kgieOyjzj",
        "outputId": "80bb0564-5282-45a1-9b27-175f8c4eb3f2"
      },
      "outputs": [
        {
          "name": "stderr",
          "output_type": "stream",
          "text": [
            "[nltk_data] Downloading package punkt to /Users/azaleadj/nltk_data...\n",
            "[nltk_data]   Package punkt is already up-to-date!\n",
            "[nltk_data] Downloading package stopwords to\n",
            "[nltk_data]     /Users/azaleadj/nltk_data...\n",
            "[nltk_data]   Package stopwords is already up-to-date!\n",
            "[nltk_data] Downloading package averaged_perceptron_tagger to\n",
            "[nltk_data]     /Users/azaleadj/nltk_data...\n",
            "[nltk_data]   Package averaged_perceptron_tagger is already up-to-\n",
            "[nltk_data]       date!\n",
            "[nltk_data] Downloading package wordnet to\n",
            "[nltk_data]     /Users/azaleadj/nltk_data...\n",
            "[nltk_data]   Package wordnet is already up-to-date!\n"
          ]
        },
        {
          "data": {
            "text/plain": [
              "True"
            ]
          },
          "execution_count": 51,
          "metadata": {},
          "output_type": "execute_result"
        }
      ],
      "source": [
        "import pandas as pd\n",
        "import numpy as np\n",
        "import matplotlib.pyplot as plt\n",
        "import seaborn as sns\n",
        "import re\n",
        "import string\n",
        "from collections import Counter\n",
        "from wordcloud import WordCloud\n",
        "import nltk\n",
        "import warnings\n",
        "warnings.filterwarnings(\"ignore\")\n",
        "\n",
        "nltk.download('punkt')\n",
        "nltk.download('stopwords')\n",
        "nltk.download('averaged_perceptron_tagger')\n",
        "nltk.download('wordnet')"
      ]
    },
    {
      "cell_type": "code",
      "execution_count": 52,
      "metadata": {},
      "outputs": [
        {
          "name": "stdout",
          "output_type": "stream",
          "text": [
            "Current directory: /Users/azaleadj/Desktop/Uvic/summer/592/project/Summer-2025-ECE-597-Group4/DataPreprocessing\n"
          ]
        }
      ],
      "source": [
        "import os\n",
        "\n",
        "\n",
        "os.chdir(\"/Users/azaleadj/Desktop/Uvic/summer/592/project/Summer-2025-ECE-597-Group4/DataPreprocessing\")\n",
        "\n",
        "\n",
        "print(\"Current directory:\", os.getcwd())\n"
      ]
    },
    {
      "cell_type": "markdown",
      "metadata": {},
      "source": [
        "Preprocessing Steps\n",
        "Standardized column names and encodings.\n",
        "\n",
        "Added a label column:\n",
        "\n",
        "1 for phishing\n",
        "\n",
        "0 for benign (Enron)\n",
        "\n",
        "Concatenated all datasets with a Source column.\n",
        "\n",
        "Checked and removed duplicate emails (based on the Message field), even if they came from different sources.\n",
        "\n",
        "Saved final result as combined_raw_dataset.csv.\n"
      ]
    },
    {
      "cell_type": "markdown",
      "metadata": {},
      "source": []
    },
    {
      "cell_type": "code",
      "execution_count": 53,
      "metadata": {},
      "outputs": [
        {
          "name": "stdout",
          "output_type": "stream",
          "text": [
            "data devisions after sampled： (150000, 2)\n",
            "                                              file  \\\n",
            "427616                     shackleton-s/sent/1912.   \n",
            "108773                    farmer-d/logistics/1066.   \n",
            "355471                  parks-j/deleted_items/202.   \n",
            "457837  stokley-c/chris_stokley/iso/client_rep/41.   \n",
            "124910               germany-c/all_documents/1174.   \n",
            "\n",
            "                                                  message  \n",
            "427616  Message-ID: <21013688.1075844564560.JavaMail.e...  \n",
            "108773  Message-ID: <22688499.1075854130303.JavaMail.e...  \n",
            "355471  Message-ID: <27817771.1075841359502.JavaMail.e...  \n",
            "457837  Message-ID: <10695160.1075858510449.JavaMail.e...  \n",
            "124910  Message-ID: <27819143.1075853689038.JavaMail.e...  \n"
          ]
        }
      ],
      "source": [
        "# load Enron dataset\n",
        "enron_df = pd.read_csv(\"enron_emails.csv\")\n",
        "\n",
        "enron_df.head()\n",
        "enron_df.shape\n",
        "\n",
        "enron_sampled = enron_df.sample(n=150000, random_state=42)  # extract 150000 data from enron\n",
        "\n",
        "print(\"data devisions after sampled：\", enron_sampled.shape)\n",
        "print(enron_sampled.head())\n"
      ]
    },
    {
      "cell_type": "code",
      "execution_count": 54,
      "metadata": {},
      "outputs": [
        {
          "data": {
            "text/html": [
              "<div>\n",
              "<style scoped>\n",
              "    .dataframe tbody tr th:only-of-type {\n",
              "        vertical-align: middle;\n",
              "    }\n",
              "\n",
              "    .dataframe tbody tr th {\n",
              "        vertical-align: top;\n",
              "    }\n",
              "\n",
              "    .dataframe thead th {\n",
              "        text-align: right;\n",
              "    }\n",
              "</style>\n",
              "<table border=\"1\" class=\"dataframe\">\n",
              "  <thead>\n",
              "    <tr style=\"text-align: right;\">\n",
              "      <th></th>\n",
              "      <th>Message</th>\n",
              "      <th>label</th>\n",
              "    </tr>\n",
              "  </thead>\n",
              "  <tbody>\n",
              "    <tr>\n",
              "      <th>427616</th>\n",
              "      <td>Bill:  Thanks for the info.   I also spoke wit...</td>\n",
              "      <td>0</td>\n",
              "    </tr>\n",
              "    <tr>\n",
              "      <th>108773</th>\n",
              "      <td>Aimee,\\nPlease check meter #1591 Lamay gas lif...</td>\n",
              "      <td>0</td>\n",
              "    </tr>\n",
              "    <tr>\n",
              "      <th>355471</th>\n",
              "      <td>GCCA Crawfish and rip-off raffle &amp; over-priced...</td>\n",
              "      <td>0</td>\n",
              "    </tr>\n",
              "    <tr>\n",
              "      <th>457837</th>\n",
              "      <td>&lt;&lt;Keoni.zip&gt;&gt; Chris, per your request here ar...</td>\n",
              "      <td>0</td>\n",
              "    </tr>\n",
              "    <tr>\n",
              "      <th>124910</th>\n",
              "      <td>I'm trying to change the Receipt Meter on deal...</td>\n",
              "      <td>0</td>\n",
              "    </tr>\n",
              "  </tbody>\n",
              "</table>\n",
              "</div>"
            ],
            "text/plain": [
              "                                                  Message label\n",
              "427616  Bill:  Thanks for the info.   I also spoke wit...     0\n",
              "108773  Aimee,\\nPlease check meter #1591 Lamay gas lif...     0\n",
              "355471  GCCA Crawfish and rip-off raffle & over-priced...     0\n",
              "457837   <<Keoni.zip>> Chris, per your request here ar...     0\n",
              "124910  I'm trying to change the Receipt Meter on deal...     0"
            ]
          },
          "execution_count": 54,
          "metadata": {},
          "output_type": "execute_result"
        }
      ],
      "source": [
        "def extract_body(raw_msg):\n",
        "    try:\n",
        "        return raw_msg.split('\\n\\n', 1)[1]\n",
        "    except IndexError:\n",
        "        return \"\"\n",
        "\n",
        "enron_sampled['body'] = enron_sampled['message'].apply(extract_body)\n",
        "enron_sampled['label'] = '0'\n",
        "enron_sampled_clean = enron_sampled[['body', 'label']].rename(columns={'body': 'Message'})\n",
        "enron_sampled_clean.head()\n"
      ]
    },
    {
      "cell_type": "code",
      "execution_count": 55,
      "metadata": {},
      "outputs": [
        {
          "data": {
            "text/plain": [
              "<bound method NDFrame.head of                                                  Message  label\n",
              "36711  angel guerra dwtheballoonroommtheballoonroomne...      1\n",
              "79819  mrs aisha mohammed aishamohmshecom frommrs moh...      1\n",
              "67836  cnn alerts afurak1977renimusiccom cnn alerts c...      1\n",
              "82049  monkeyorg vicinfinitextilcom  10 dec 2019 0843...      1\n",
              "40258  hallee know smurfette wished guy bigger mushro...      1\n",
              "...                                                  ...    ...\n",
              "20700  usb 2 0 3 5 external hard drives usb 40 gb 69 ...      1\n",
              "9220   graphics software available cheap oem versions...      1\n",
              "44048  gris lorraine loveddmindwaveresearchcom dear c...      1\n",
              "57691  phyllis goddard linbirichtermetbirichterde dif...      1\n",
              "33748  dick dudley winfredmacedoniakocheuropeaninstit...      1\n",
              "\n",
              "[10000 rows x 2 columns]>"
            ]
          },
          "execution_count": 55,
          "metadata": {},
          "output_type": "execute_result"
        }
      ],
      "source": [
        "# find phishing email dataset from kaggle\n",
        "\n",
        "kaggle_phishing_df = pd.read_csv(\"kaggle_phishing_email.csv\")\n",
        "kaggle_phishing_df.shape\n",
        "\n",
        "kaggle_phishing_df['label'].value_counts()\n",
        "\n",
        "# kaggle_phishing_df[kaggle_phishing_df['label'] == 1].head(10)\n",
        "\n",
        "\n",
        "kaggle_phishing_samples = kaggle_phishing_df[kaggle_phishing_df['label'] == 1].sample(n=10000, random_state=42)\n",
        "\n",
        "\n",
        "kaggle_phishing_samples = kaggle_phishing_samples.rename(columns={\"text_combined\": \"Message\"})\n",
        "kaggle_phishing_samples.head\n",
        "\n"
      ]
    },
    {
      "cell_type": "code",
      "execution_count": 56,
      "metadata": {},
      "outputs": [
        {
          "name": "stdout",
          "output_type": "stream",
          "text": [
            "(160000, 2)\n",
            "label\n",
            "0    150000\n",
            "1     10000\n",
            "Name: count, dtype: int64\n"
          ]
        }
      ],
      "source": [
        "# combine two datasets\n",
        "all_emails_df = pd.concat([\n",
        "    kaggle_phishing_samples[['Message', 'label']],\n",
        "    enron_sampled_clean[['Message', 'label']]\n",
        "], ignore_index=True)\n",
        "\n",
        "\n",
        "print(all_emails_df.shape)\n",
        "print(all_emails_df['label'].value_counts())\n"
      ]
    },
    {
      "cell_type": "code",
      "execution_count": null,
      "metadata": {},
      "outputs": [],
      "source": []
    },
    {
      "cell_type": "code",
      "execution_count": 57,
      "metadata": {},
      "outputs": [
        {
          "name": "stdout",
          "output_type": "stream",
          "text": [
            "deleted duplicated emails: 35870 \n"
          ]
        }
      ],
      "source": [
        "before = all_emails_df.shape[0]\n",
        "all_emails_df.drop_duplicates(subset='Message', inplace=True)\n",
        "after = all_emails_df.shape[0]\n",
        "print(f\"deleted duplicated emails: {before - after} \")"
      ]
    },
    {
      "cell_type": "code",
      "execution_count": 58,
      "metadata": {},
      "outputs": [
        {
          "name": "stdout",
          "output_type": "stream",
          "text": [
            "(124130, 2)\n",
            "label\n",
            "0    114134\n",
            "1      9996\n",
            "Name: count, dtype: int64\n"
          ]
        }
      ],
      "source": [
        "print(all_emails_df.shape)\n",
        "print(all_emails_df['label'].value_counts())"
      ]
    },
    {
      "cell_type": "code",
      "execution_count": 59,
      "metadata": {},
      "outputs": [],
      "source": [
        "import re\n",
        "def clean_text(text):\n",
        "    text = text.lower()\n",
        "    # keep URL、email、HTML,number,$,@,:/\n",
        "    \n",
        "    text = re.sub(r'[^\\x00-\\x7f]', ' ', text)              # delete non ASCII\n",
        "    text = re.sub(r'\\b[a-z]{1,2}\\b', '', text)             # delet short word\n",
        "    text = re.sub(r'[^a-z0-9\\s@$:/]', '', text)               \n",
        "    text = re.sub(r'\\s+', ' ', text).strip()\n",
        "    return text\n",
        "\n",
        "\n",
        "\n",
        "   \n"
      ]
    },
    {
      "cell_type": "code",
      "execution_count": 60,
      "metadata": {},
      "outputs": [],
      "source": [
        "all_emails_df['Clean_Message'] = all_emails_df['Message'].apply(clean_text)\n",
        "\n"
      ]
    },
    {
      "cell_type": "code",
      "execution_count": 61,
      "metadata": {},
      "outputs": [
        {
          "data": {
            "text/html": [
              "<div>\n",
              "<style scoped>\n",
              "    .dataframe tbody tr th:only-of-type {\n",
              "        vertical-align: middle;\n",
              "    }\n",
              "\n",
              "    .dataframe tbody tr th {\n",
              "        vertical-align: top;\n",
              "    }\n",
              "\n",
              "    .dataframe thead th {\n",
              "        text-align: right;\n",
              "    }\n",
              "</style>\n",
              "<table border=\"1\" class=\"dataframe\">\n",
              "  <thead>\n",
              "    <tr style=\"text-align: right;\">\n",
              "      <th></th>\n",
              "      <th>Message</th>\n",
              "      <th>Clean_Message</th>\n",
              "      <th>label</th>\n",
              "    </tr>\n",
              "  </thead>\n",
              "  <tbody>\n",
              "    <tr>\n",
              "      <th>0</th>\n",
              "      <td>angel guerra dwtheballoonroommtheballoonroomne...</td>\n",
              "      <td>angel guerra dwtheballoonroommtheballoonroomne...</td>\n",
              "      <td>1</td>\n",
              "    </tr>\n",
              "    <tr>\n",
              "      <th>1</th>\n",
              "      <td>mrs aisha mohammed aishamohmshecom frommrs moh...</td>\n",
              "      <td>mrs aisha mohammed aishamohmshecom frommrs moh...</td>\n",
              "      <td>1</td>\n",
              "    </tr>\n",
              "    <tr>\n",
              "      <th>2</th>\n",
              "      <td>cnn alerts afurak1977renimusiccom cnn alerts c...</td>\n",
              "      <td>cnn alerts afurak1977renimusiccom cnn alerts c...</td>\n",
              "      <td>1</td>\n",
              "    </tr>\n",
              "    <tr>\n",
              "      <th>3</th>\n",
              "      <td>monkeyorg vicinfinitextilcom  10 dec 2019 0843...</td>\n",
              "      <td>monkeyorg vicinfinitextilcom 10 dec 2019 08430...</td>\n",
              "      <td>1</td>\n",
              "    </tr>\n",
              "    <tr>\n",
              "      <th>4</th>\n",
              "      <td>hallee know smurfette wished guy bigger mushro...</td>\n",
              "      <td>hallee know smurfette wished guy bigger mushro...</td>\n",
              "      <td>1</td>\n",
              "    </tr>\n",
              "  </tbody>\n",
              "</table>\n",
              "</div>"
            ],
            "text/plain": [
              "                                             Message  \\\n",
              "0  angel guerra dwtheballoonroommtheballoonroomne...   \n",
              "1  mrs aisha mohammed aishamohmshecom frommrs moh...   \n",
              "2  cnn alerts afurak1977renimusiccom cnn alerts c...   \n",
              "3  monkeyorg vicinfinitextilcom  10 dec 2019 0843...   \n",
              "4  hallee know smurfette wished guy bigger mushro...   \n",
              "\n",
              "                                       Clean_Message label  \n",
              "0  angel guerra dwtheballoonroommtheballoonroomne...     1  \n",
              "1  mrs aisha mohammed aishamohmshecom frommrs moh...     1  \n",
              "2  cnn alerts afurak1977renimusiccom cnn alerts c...     1  \n",
              "3  monkeyorg vicinfinitextilcom 10 dec 2019 08430...     1  \n",
              "4  hallee know smurfette wished guy bigger mushro...     1  "
            ]
          },
          "execution_count": 61,
          "metadata": {},
          "output_type": "execute_result"
        }
      ],
      "source": [
        "all_emails_df[['Message', 'Clean_Message', 'label']].head()\n"
      ]
    },
    {
      "cell_type": "code",
      "execution_count": 62,
      "metadata": {},
      "outputs": [],
      "source": [
        "\n",
        "from sklearn.utils import shuffle\n",
        "\n",
        "# shuffle\n",
        "all_emails_df = shuffle(all_emails_df, random_state=42).reset_index(drop=True)"
      ]
    },
    {
      "cell_type": "code",
      "execution_count": 63,
      "metadata": {},
      "outputs": [
        {
          "data": {
            "text/html": [
              "<div>\n",
              "<style scoped>\n",
              "    .dataframe tbody tr th:only-of-type {\n",
              "        vertical-align: middle;\n",
              "    }\n",
              "\n",
              "    .dataframe tbody tr th {\n",
              "        vertical-align: top;\n",
              "    }\n",
              "\n",
              "    .dataframe thead th {\n",
              "        text-align: right;\n",
              "    }\n",
              "</style>\n",
              "<table border=\"1\" class=\"dataframe\">\n",
              "  <thead>\n",
              "    <tr style=\"text-align: right;\">\n",
              "      <th></th>\n",
              "      <th>Message</th>\n",
              "      <th>label</th>\n",
              "      <th>Clean_Message</th>\n",
              "    </tr>\n",
              "  </thead>\n",
              "  <tbody>\n",
              "    <tr>\n",
              "      <th>0</th>\n",
              "      <td>\\n\\nStart Date: 10/13/01; HourAhead hour: 22; ...</td>\n",
              "      <td>0</td>\n",
              "      <td>start date: 10/13/01 hourahead hour: 22 ancill...</td>\n",
              "    </tr>\n",
              "    <tr>\n",
              "      <th>1</th>\n",
              "      <td>---------------------- Forwarded by Vince J Ka...</td>\n",
              "      <td>0</td>\n",
              "      <td>forwarded vince kaminski/hou/ect 03/27/2000 20...</td>\n",
              "    </tr>\n",
              "    <tr>\n",
              "      <th>2</th>\n",
              "      <td>\\n       [IMAGE]      Webcast June 14th @ 2:00...</td>\n",
              "      <td>0</td>\n",
              "      <td>image webcast june 14th @ 2:00pm edt click reg...</td>\n",
              "    </tr>\n",
              "    <tr>\n",
              "      <th>3</th>\n",
              "      <td>\\n\\n -----Original Message-----\\nFrom: =09Dupo...</td>\n",
              "      <td>0</td>\n",
              "      <td>original message from: 09dupont anita 20 sent:...</td>\n",
              "    </tr>\n",
              "    <tr>\n",
              "      <th>4</th>\n",
              "      <td>Jeff--please change my name to \"mike d. smith\"...</td>\n",
              "      <td>0</td>\n",
              "      <td>jeffplease change name mike smith thanks forwa...</td>\n",
              "    </tr>\n",
              "  </tbody>\n",
              "</table>\n",
              "</div>"
            ],
            "text/plain": [
              "                                             Message label  \\\n",
              "0  \\n\\nStart Date: 10/13/01; HourAhead hour: 22; ...     0   \n",
              "1  ---------------------- Forwarded by Vince J Ka...     0   \n",
              "2  \\n       [IMAGE]      Webcast June 14th @ 2:00...     0   \n",
              "3  \\n\\n -----Original Message-----\\nFrom: =09Dupo...     0   \n",
              "4  Jeff--please change my name to \"mike d. smith\"...     0   \n",
              "\n",
              "                                       Clean_Message  \n",
              "0  start date: 10/13/01 hourahead hour: 22 ancill...  \n",
              "1  forwarded vince kaminski/hou/ect 03/27/2000 20...  \n",
              "2  image webcast june 14th @ 2:00pm edt click reg...  \n",
              "3  original message from: 09dupont anita 20 sent:...  \n",
              "4  jeffplease change name mike smith thanks forwa...  "
            ]
          },
          "execution_count": 63,
          "metadata": {},
          "output_type": "execute_result"
        }
      ],
      "source": [
        "all_emails_df.head()"
      ]
    },
    {
      "cell_type": "code",
      "execution_count": 64,
      "metadata": {},
      "outputs": [],
      "source": [
        "all_emails_df.to_csv(\"combined_raw_dataset.csv\", index=False)\n"
      ]
    },
    {
      "cell_type": "code",
      "execution_count": 65,
      "metadata": {},
      "outputs": [
        {
          "name": "stdout",
          "output_type": "stream",
          "text": [
            "Label count distribution:\n",
            " label\n",
            "0    114134\n",
            "1      9996\n",
            "Name: count, dtype: int64\n",
            "\n",
            "Label proportion distribution:\n",
            " label\n",
            "0    0.919472\n",
            "1    0.080528\n",
            "Name: proportion, dtype: float64\n"
          ]
        }
      ],
      "source": [
        "# View label distribution (counts and proportions)\n",
        "label_counts = all_emails_df['label'].value_counts()\n",
        "label_ratio = all_emails_df['label'].value_counts(normalize=True)\n",
        "\n",
        "print(\"Label count distribution:\\n\", label_counts)\n",
        "print(\"\\nLabel proportion distribution:\\n\", label_ratio)\n"
      ]
    },
    {
      "cell_type": "code",
      "execution_count": 66,
      "metadata": {},
      "outputs": [
        {
          "data": {
            "image/png": "[encoded data removed]",
            "text/plain": [
              "<Figure size 640x480 with 1 Axes>"
            ]
          },
          "metadata": {},
          "output_type": "display_data"
        }
      ],
      "source": [
        "\n",
        "\n",
        "label_counts = all_emails_df['label'].value_counts()\n",
        "label_counts.plot(kind='bar', color=['skyblue', 'salmon'])\n",
        "plt.title('Label Distribution (0 = benign, 1 = phishing)')\n",
        "plt.xlabel('Label')\n",
        "plt.ylabel('Count')\n",
        "plt.xticks(rotation=0)\n",
        "plt.tight_layout()\n",
        "plt.show()\n"
      ]
    },
    {
      "cell_type": "markdown",
      "metadata": {},
      "source": []
    },
    {
      "cell_type": "markdown",
      "metadata": {},
      "source": []
    }
  ],
  "metadata": {
    "colab": {
      "provenance": []
    },
    "kernelspec": {
      "display_name": "Python (venv)",
      "language": "python",
      "name": "venv"
    },
    "language_info": {
      "codemirror_mode": {
        "name": "ipython",
        "version": 3
      },
      "file_extension": ".py",
      "mimetype": "text/x-python",
      "name": "python",
      "nbconvert_exporter": "python",
      "pygments_lexer": "ipython3",
      "version": "3.9.21"
    }
  },
  "nbformat": 4,
  "nbformat_minor": 0
}
